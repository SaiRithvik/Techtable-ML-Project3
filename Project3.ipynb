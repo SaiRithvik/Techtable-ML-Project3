{
 "cells": [
  {
   "cell_type": "code",
   "execution_count": 931,
   "metadata": {},
   "outputs": [],
   "source": [
    "import pandas as pd\n",
    "import numpy as np"
   ]
  },
  {
   "cell_type": "code",
   "execution_count": 932,
   "metadata": {},
   "outputs": [],
   "source": [
    "df = pd.read_csv('StudentsPerformance.csv')"
   ]
  },
  {
   "cell_type": "code",
   "execution_count": 933,
   "metadata": {},
   "outputs": [
    {
     "data": {
      "text/html": [
       "<div>\n",
       "<style scoped>\n",
       "    .dataframe tbody tr th:only-of-type {\n",
       "        vertical-align: middle;\n",
       "    }\n",
       "\n",
       "    .dataframe tbody tr th {\n",
       "        vertical-align: top;\n",
       "    }\n",
       "\n",
       "    .dataframe thead th {\n",
       "        text-align: right;\n",
       "    }\n",
       "</style>\n",
       "<table border=\"1\" class=\"dataframe\">\n",
       "  <thead>\n",
       "    <tr style=\"text-align: right;\">\n",
       "      <th></th>\n",
       "      <th>gender</th>\n",
       "      <th>race/ethnicity</th>\n",
       "      <th>parental level of education</th>\n",
       "      <th>lunch</th>\n",
       "      <th>test preparation course</th>\n",
       "      <th>math score</th>\n",
       "      <th>reading score</th>\n",
       "      <th>writing score</th>\n",
       "    </tr>\n",
       "  </thead>\n",
       "  <tbody>\n",
       "    <tr>\n",
       "      <th>0</th>\n",
       "      <td>female</td>\n",
       "      <td>group B</td>\n",
       "      <td>bachelor's degree</td>\n",
       "      <td>standard</td>\n",
       "      <td>none</td>\n",
       "      <td>72</td>\n",
       "      <td>72</td>\n",
       "      <td>74</td>\n",
       "    </tr>\n",
       "    <tr>\n",
       "      <th>1</th>\n",
       "      <td>female</td>\n",
       "      <td>group C</td>\n",
       "      <td>some college</td>\n",
       "      <td>standard</td>\n",
       "      <td>completed</td>\n",
       "      <td>69</td>\n",
       "      <td>90</td>\n",
       "      <td>88</td>\n",
       "    </tr>\n",
       "    <tr>\n",
       "      <th>2</th>\n",
       "      <td>female</td>\n",
       "      <td>group B</td>\n",
       "      <td>master's degree</td>\n",
       "      <td>standard</td>\n",
       "      <td>none</td>\n",
       "      <td>90</td>\n",
       "      <td>95</td>\n",
       "      <td>93</td>\n",
       "    </tr>\n",
       "    <tr>\n",
       "      <th>3</th>\n",
       "      <td>male</td>\n",
       "      <td>group A</td>\n",
       "      <td>associate's degree</td>\n",
       "      <td>free/reduced</td>\n",
       "      <td>none</td>\n",
       "      <td>47</td>\n",
       "      <td>57</td>\n",
       "      <td>44</td>\n",
       "    </tr>\n",
       "    <tr>\n",
       "      <th>4</th>\n",
       "      <td>male</td>\n",
       "      <td>group C</td>\n",
       "      <td>some college</td>\n",
       "      <td>standard</td>\n",
       "      <td>none</td>\n",
       "      <td>76</td>\n",
       "      <td>78</td>\n",
       "      <td>75</td>\n",
       "    </tr>\n",
       "    <tr>\n",
       "      <th>...</th>\n",
       "      <td>...</td>\n",
       "      <td>...</td>\n",
       "      <td>...</td>\n",
       "      <td>...</td>\n",
       "      <td>...</td>\n",
       "      <td>...</td>\n",
       "      <td>...</td>\n",
       "      <td>...</td>\n",
       "    </tr>\n",
       "    <tr>\n",
       "      <th>995</th>\n",
       "      <td>female</td>\n",
       "      <td>group E</td>\n",
       "      <td>master's degree</td>\n",
       "      <td>standard</td>\n",
       "      <td>completed</td>\n",
       "      <td>88</td>\n",
       "      <td>99</td>\n",
       "      <td>95</td>\n",
       "    </tr>\n",
       "    <tr>\n",
       "      <th>996</th>\n",
       "      <td>male</td>\n",
       "      <td>group C</td>\n",
       "      <td>high school</td>\n",
       "      <td>free/reduced</td>\n",
       "      <td>none</td>\n",
       "      <td>62</td>\n",
       "      <td>55</td>\n",
       "      <td>55</td>\n",
       "    </tr>\n",
       "    <tr>\n",
       "      <th>997</th>\n",
       "      <td>female</td>\n",
       "      <td>group C</td>\n",
       "      <td>high school</td>\n",
       "      <td>free/reduced</td>\n",
       "      <td>completed</td>\n",
       "      <td>59</td>\n",
       "      <td>71</td>\n",
       "      <td>65</td>\n",
       "    </tr>\n",
       "    <tr>\n",
       "      <th>998</th>\n",
       "      <td>female</td>\n",
       "      <td>group D</td>\n",
       "      <td>some college</td>\n",
       "      <td>standard</td>\n",
       "      <td>completed</td>\n",
       "      <td>68</td>\n",
       "      <td>78</td>\n",
       "      <td>77</td>\n",
       "    </tr>\n",
       "    <tr>\n",
       "      <th>999</th>\n",
       "      <td>female</td>\n",
       "      <td>group D</td>\n",
       "      <td>some college</td>\n",
       "      <td>free/reduced</td>\n",
       "      <td>none</td>\n",
       "      <td>77</td>\n",
       "      <td>86</td>\n",
       "      <td>86</td>\n",
       "    </tr>\n",
       "  </tbody>\n",
       "</table>\n",
       "<p>1000 rows × 8 columns</p>\n",
       "</div>"
      ],
      "text/plain": [
       "     gender race/ethnicity parental level of education         lunch  \\\n",
       "0    female        group B           bachelor's degree      standard   \n",
       "1    female        group C                some college      standard   \n",
       "2    female        group B             master's degree      standard   \n",
       "3      male        group A          associate's degree  free/reduced   \n",
       "4      male        group C                some college      standard   \n",
       "..      ...            ...                         ...           ...   \n",
       "995  female        group E             master's degree      standard   \n",
       "996    male        group C                 high school  free/reduced   \n",
       "997  female        group C                 high school  free/reduced   \n",
       "998  female        group D                some college      standard   \n",
       "999  female        group D                some college  free/reduced   \n",
       "\n",
       "    test preparation course  math score  reading score  writing score  \n",
       "0                      none          72             72             74  \n",
       "1                 completed          69             90             88  \n",
       "2                      none          90             95             93  \n",
       "3                      none          47             57             44  \n",
       "4                      none          76             78             75  \n",
       "..                      ...         ...            ...            ...  \n",
       "995               completed          88             99             95  \n",
       "996                    none          62             55             55  \n",
       "997               completed          59             71             65  \n",
       "998               completed          68             78             77  \n",
       "999                    none          77             86             86  \n",
       "\n",
       "[1000 rows x 8 columns]"
      ]
     },
     "execution_count": 933,
     "metadata": {},
     "output_type": "execute_result"
    }
   ],
   "source": [
    "df"
   ]
  },
  {
   "cell_type": "code",
   "execution_count": 934,
   "metadata": {},
   "outputs": [],
   "source": [
    "df[\"gender\"].replace({\"male\": 1, \"female\": 0}, inplace=True)\n",
    "df['race/ethnicity'].replace({'group A': 0, 'group B': 1, 'group C': 2, 'group D': 3, 'group E': 4}, inplace=True)\n",
    "df['parental level of education'].replace({'some high school': 0, 'high school': 1, \"associate's degree\" : 2, 'some college': 3, \"bachelor's degree\": 4, \"master's degree\": 5}, inplace = True)\n",
    "df['lunch'].replace({'standard': 0, 'free/reduced': 1}, inplace = True)\n",
    "df['test preparation course'].replace({'none': 0, 'completed': 1}, inplace = True)"
   ]
  },
  {
   "cell_type": "code",
   "execution_count": 935,
   "metadata": {
    "scrolled": true
   },
   "outputs": [
    {
     "data": {
      "text/html": [
       "<div>\n",
       "<style scoped>\n",
       "    .dataframe tbody tr th:only-of-type {\n",
       "        vertical-align: middle;\n",
       "    }\n",
       "\n",
       "    .dataframe tbody tr th {\n",
       "        vertical-align: top;\n",
       "    }\n",
       "\n",
       "    .dataframe thead th {\n",
       "        text-align: right;\n",
       "    }\n",
       "</style>\n",
       "<table border=\"1\" class=\"dataframe\">\n",
       "  <thead>\n",
       "    <tr style=\"text-align: right;\">\n",
       "      <th></th>\n",
       "      <th>gender</th>\n",
       "      <th>race/ethnicity</th>\n",
       "      <th>parental level of education</th>\n",
       "      <th>lunch</th>\n",
       "      <th>test preparation course</th>\n",
       "      <th>math score</th>\n",
       "      <th>reading score</th>\n",
       "      <th>writing score</th>\n",
       "    </tr>\n",
       "  </thead>\n",
       "  <tbody>\n",
       "    <tr>\n",
       "      <th>0</th>\n",
       "      <td>0</td>\n",
       "      <td>1</td>\n",
       "      <td>4</td>\n",
       "      <td>0</td>\n",
       "      <td>0</td>\n",
       "      <td>72</td>\n",
       "      <td>72</td>\n",
       "      <td>74</td>\n",
       "    </tr>\n",
       "    <tr>\n",
       "      <th>1</th>\n",
       "      <td>0</td>\n",
       "      <td>2</td>\n",
       "      <td>3</td>\n",
       "      <td>0</td>\n",
       "      <td>1</td>\n",
       "      <td>69</td>\n",
       "      <td>90</td>\n",
       "      <td>88</td>\n",
       "    </tr>\n",
       "    <tr>\n",
       "      <th>2</th>\n",
       "      <td>0</td>\n",
       "      <td>1</td>\n",
       "      <td>5</td>\n",
       "      <td>0</td>\n",
       "      <td>0</td>\n",
       "      <td>90</td>\n",
       "      <td>95</td>\n",
       "      <td>93</td>\n",
       "    </tr>\n",
       "    <tr>\n",
       "      <th>3</th>\n",
       "      <td>1</td>\n",
       "      <td>0</td>\n",
       "      <td>2</td>\n",
       "      <td>1</td>\n",
       "      <td>0</td>\n",
       "      <td>47</td>\n",
       "      <td>57</td>\n",
       "      <td>44</td>\n",
       "    </tr>\n",
       "    <tr>\n",
       "      <th>4</th>\n",
       "      <td>1</td>\n",
       "      <td>2</td>\n",
       "      <td>3</td>\n",
       "      <td>0</td>\n",
       "      <td>0</td>\n",
       "      <td>76</td>\n",
       "      <td>78</td>\n",
       "      <td>75</td>\n",
       "    </tr>\n",
       "    <tr>\n",
       "      <th>...</th>\n",
       "      <td>...</td>\n",
       "      <td>...</td>\n",
       "      <td>...</td>\n",
       "      <td>...</td>\n",
       "      <td>...</td>\n",
       "      <td>...</td>\n",
       "      <td>...</td>\n",
       "      <td>...</td>\n",
       "    </tr>\n",
       "    <tr>\n",
       "      <th>995</th>\n",
       "      <td>0</td>\n",
       "      <td>4</td>\n",
       "      <td>5</td>\n",
       "      <td>0</td>\n",
       "      <td>1</td>\n",
       "      <td>88</td>\n",
       "      <td>99</td>\n",
       "      <td>95</td>\n",
       "    </tr>\n",
       "    <tr>\n",
       "      <th>996</th>\n",
       "      <td>1</td>\n",
       "      <td>2</td>\n",
       "      <td>1</td>\n",
       "      <td>1</td>\n",
       "      <td>0</td>\n",
       "      <td>62</td>\n",
       "      <td>55</td>\n",
       "      <td>55</td>\n",
       "    </tr>\n",
       "    <tr>\n",
       "      <th>997</th>\n",
       "      <td>0</td>\n",
       "      <td>2</td>\n",
       "      <td>1</td>\n",
       "      <td>1</td>\n",
       "      <td>1</td>\n",
       "      <td>59</td>\n",
       "      <td>71</td>\n",
       "      <td>65</td>\n",
       "    </tr>\n",
       "    <tr>\n",
       "      <th>998</th>\n",
       "      <td>0</td>\n",
       "      <td>3</td>\n",
       "      <td>3</td>\n",
       "      <td>0</td>\n",
       "      <td>1</td>\n",
       "      <td>68</td>\n",
       "      <td>78</td>\n",
       "      <td>77</td>\n",
       "    </tr>\n",
       "    <tr>\n",
       "      <th>999</th>\n",
       "      <td>0</td>\n",
       "      <td>3</td>\n",
       "      <td>3</td>\n",
       "      <td>1</td>\n",
       "      <td>0</td>\n",
       "      <td>77</td>\n",
       "      <td>86</td>\n",
       "      <td>86</td>\n",
       "    </tr>\n",
       "  </tbody>\n",
       "</table>\n",
       "<p>1000 rows × 8 columns</p>\n",
       "</div>"
      ],
      "text/plain": [
       "     gender  race/ethnicity  parental level of education  lunch  \\\n",
       "0         0               1                            4      0   \n",
       "1         0               2                            3      0   \n",
       "2         0               1                            5      0   \n",
       "3         1               0                            2      1   \n",
       "4         1               2                            3      0   \n",
       "..      ...             ...                          ...    ...   \n",
       "995       0               4                            5      0   \n",
       "996       1               2                            1      1   \n",
       "997       0               2                            1      1   \n",
       "998       0               3                            3      0   \n",
       "999       0               3                            3      1   \n",
       "\n",
       "     test preparation course  math score  reading score  writing score  \n",
       "0                          0          72             72             74  \n",
       "1                          1          69             90             88  \n",
       "2                          0          90             95             93  \n",
       "3                          0          47             57             44  \n",
       "4                          0          76             78             75  \n",
       "..                       ...         ...            ...            ...  \n",
       "995                        1          88             99             95  \n",
       "996                        0          62             55             55  \n",
       "997                        1          59             71             65  \n",
       "998                        1          68             78             77  \n",
       "999                        0          77             86             86  \n",
       "\n",
       "[1000 rows x 8 columns]"
      ]
     },
     "execution_count": 935,
     "metadata": {},
     "output_type": "execute_result"
    }
   ],
   "source": [
    "df"
   ]
  },
  {
   "cell_type": "code",
   "execution_count": 936,
   "metadata": {},
   "outputs": [
    {
     "data": {
      "text/html": [
       "<div>\n",
       "<style scoped>\n",
       "    .dataframe tbody tr th:only-of-type {\n",
       "        vertical-align: middle;\n",
       "    }\n",
       "\n",
       "    .dataframe tbody tr th {\n",
       "        vertical-align: top;\n",
       "    }\n",
       "\n",
       "    .dataframe thead th {\n",
       "        text-align: right;\n",
       "    }\n",
       "</style>\n",
       "<table border=\"1\" class=\"dataframe\">\n",
       "  <thead>\n",
       "    <tr style=\"text-align: right;\">\n",
       "      <th></th>\n",
       "      <th>gender</th>\n",
       "      <th>race_or_ethnicity</th>\n",
       "      <th>parental_level_of_education</th>\n",
       "      <th>lunch</th>\n",
       "      <th>test_preparation_course</th>\n",
       "      <th>math_score</th>\n",
       "      <th>reading_score</th>\n",
       "      <th>writing_score</th>\n",
       "    </tr>\n",
       "  </thead>\n",
       "  <tbody>\n",
       "    <tr>\n",
       "      <th>0</th>\n",
       "      <td>0</td>\n",
       "      <td>1</td>\n",
       "      <td>4</td>\n",
       "      <td>0</td>\n",
       "      <td>0</td>\n",
       "      <td>72</td>\n",
       "      <td>72</td>\n",
       "      <td>74</td>\n",
       "    </tr>\n",
       "    <tr>\n",
       "      <th>1</th>\n",
       "      <td>0</td>\n",
       "      <td>2</td>\n",
       "      <td>3</td>\n",
       "      <td>0</td>\n",
       "      <td>1</td>\n",
       "      <td>69</td>\n",
       "      <td>90</td>\n",
       "      <td>88</td>\n",
       "    </tr>\n",
       "    <tr>\n",
       "      <th>2</th>\n",
       "      <td>0</td>\n",
       "      <td>1</td>\n",
       "      <td>5</td>\n",
       "      <td>0</td>\n",
       "      <td>0</td>\n",
       "      <td>90</td>\n",
       "      <td>95</td>\n",
       "      <td>93</td>\n",
       "    </tr>\n",
       "    <tr>\n",
       "      <th>3</th>\n",
       "      <td>1</td>\n",
       "      <td>0</td>\n",
       "      <td>2</td>\n",
       "      <td>1</td>\n",
       "      <td>0</td>\n",
       "      <td>47</td>\n",
       "      <td>57</td>\n",
       "      <td>44</td>\n",
       "    </tr>\n",
       "    <tr>\n",
       "      <th>4</th>\n",
       "      <td>1</td>\n",
       "      <td>2</td>\n",
       "      <td>3</td>\n",
       "      <td>0</td>\n",
       "      <td>0</td>\n",
       "      <td>76</td>\n",
       "      <td>78</td>\n",
       "      <td>75</td>\n",
       "    </tr>\n",
       "    <tr>\n",
       "      <th>...</th>\n",
       "      <td>...</td>\n",
       "      <td>...</td>\n",
       "      <td>...</td>\n",
       "      <td>...</td>\n",
       "      <td>...</td>\n",
       "      <td>...</td>\n",
       "      <td>...</td>\n",
       "      <td>...</td>\n",
       "    </tr>\n",
       "    <tr>\n",
       "      <th>995</th>\n",
       "      <td>0</td>\n",
       "      <td>4</td>\n",
       "      <td>5</td>\n",
       "      <td>0</td>\n",
       "      <td>1</td>\n",
       "      <td>88</td>\n",
       "      <td>99</td>\n",
       "      <td>95</td>\n",
       "    </tr>\n",
       "    <tr>\n",
       "      <th>996</th>\n",
       "      <td>1</td>\n",
       "      <td>2</td>\n",
       "      <td>1</td>\n",
       "      <td>1</td>\n",
       "      <td>0</td>\n",
       "      <td>62</td>\n",
       "      <td>55</td>\n",
       "      <td>55</td>\n",
       "    </tr>\n",
       "    <tr>\n",
       "      <th>997</th>\n",
       "      <td>0</td>\n",
       "      <td>2</td>\n",
       "      <td>1</td>\n",
       "      <td>1</td>\n",
       "      <td>1</td>\n",
       "      <td>59</td>\n",
       "      <td>71</td>\n",
       "      <td>65</td>\n",
       "    </tr>\n",
       "    <tr>\n",
       "      <th>998</th>\n",
       "      <td>0</td>\n",
       "      <td>3</td>\n",
       "      <td>3</td>\n",
       "      <td>0</td>\n",
       "      <td>1</td>\n",
       "      <td>68</td>\n",
       "      <td>78</td>\n",
       "      <td>77</td>\n",
       "    </tr>\n",
       "    <tr>\n",
       "      <th>999</th>\n",
       "      <td>0</td>\n",
       "      <td>3</td>\n",
       "      <td>3</td>\n",
       "      <td>1</td>\n",
       "      <td>0</td>\n",
       "      <td>77</td>\n",
       "      <td>86</td>\n",
       "      <td>86</td>\n",
       "    </tr>\n",
       "  </tbody>\n",
       "</table>\n",
       "<p>1000 rows × 8 columns</p>\n",
       "</div>"
      ],
      "text/plain": [
       "     gender  race_or_ethnicity  parental_level_of_education  lunch  \\\n",
       "0         0                  1                            4      0   \n",
       "1         0                  2                            3      0   \n",
       "2         0                  1                            5      0   \n",
       "3         1                  0                            2      1   \n",
       "4         1                  2                            3      0   \n",
       "..      ...                ...                          ...    ...   \n",
       "995       0                  4                            5      0   \n",
       "996       1                  2                            1      1   \n",
       "997       0                  2                            1      1   \n",
       "998       0                  3                            3      0   \n",
       "999       0                  3                            3      1   \n",
       "\n",
       "     test_preparation_course  math_score  reading_score  writing_score  \n",
       "0                          0          72             72             74  \n",
       "1                          1          69             90             88  \n",
       "2                          0          90             95             93  \n",
       "3                          0          47             57             44  \n",
       "4                          0          76             78             75  \n",
       "..                       ...         ...            ...            ...  \n",
       "995                        1          88             99             95  \n",
       "996                        0          62             55             55  \n",
       "997                        1          59             71             65  \n",
       "998                        1          68             78             77  \n",
       "999                        0          77             86             86  \n",
       "\n",
       "[1000 rows x 8 columns]"
      ]
     },
     "execution_count": 936,
     "metadata": {},
     "output_type": "execute_result"
    }
   ],
   "source": [
    "df.columns=['gender', 'race_or_ethnicity','parental_level_of_education','lunch','test_preparation_course','math_score','reading_score','writing_score']\n",
    "df"
   ]
  },
  {
   "cell_type": "code",
   "execution_count": 937,
   "metadata": {},
   "outputs": [],
   "source": [
    "import matplotlib.pyplot as plt\n",
    "from sklearn.cluster import KMeans"
   ]
  },
  {
   "cell_type": "code",
   "execution_count": 938,
   "metadata": {},
   "outputs": [
    {
     "data": {
      "text/plain": [
       "array([[72, 72],\n",
       "       [69, 90],\n",
       "       [90, 95],\n",
       "       ...,\n",
       "       [59, 71],\n",
       "       [68, 78],\n",
       "       [77, 86]], dtype=int64)"
      ]
     },
     "execution_count": 938,
     "metadata": {},
     "output_type": "execute_result"
    }
   ],
   "source": [
    "x = df[['math_score','reading_score']].values\n",
    "x"
   ]
  },
  {
   "cell_type": "code",
   "execution_count": 939,
   "metadata": {},
   "outputs": [
    {
     "data": {
      "text/plain": [
       "Text(0, 0.5, 'reading score')"
      ]
     },
     "execution_count": 939,
     "metadata": {},
     "output_type": "execute_result"
    },
    {
     "data": {
      "image/png": "[encoded data removed]",
      "text/plain": [
       "<Figure size 432x288 with 1 Axes>"
      ]
     },
     "metadata": {
      "needs_background": "light"
     },
     "output_type": "display_data"
    }
   ],
   "source": [
    "plt.scatter(x[:,0],x[:,1])\n",
    "plt.xlabel('math score')\n",
    "plt.ylabel('reading score')"
   ]
  },
  {
   "cell_type": "code",
   "execution_count": 940,
   "metadata": {},
   "outputs": [
    {
     "name": "stdout",
     "output_type": "stream",
     "text": [
      "1 -> 442641.51800000004\n",
      "2 -> 184873.97883776695\n",
      "3 -> 115189.61705742305\n",
      "4 -> 88667.83006400213\n",
      "5 -> 72779.4573433269\n",
      "6 -> 62476.32179312679\n",
      "7 -> 54119.675831488334\n",
      "8 -> 47241.364680321094\n",
      "9 -> 41048.18995504\n",
      "10 -> 36833.43047829851\n"
     ]
    }
   ],
   "source": [
    "Err = []\n",
    "for i in range(1, 11):\n",
    "    kmeans = KMeans(n_clusters = i)\n",
    "    kmeans.fit(x)\n",
    "    print(i,\"->\",kmeans.inertia_)\n",
    "    Err.append(kmeans.inertia_)"
   ]
  },
  {
   "cell_type": "code",
   "execution_count": 941,
   "metadata": {},
   "outputs": [
    {
     "data": {
      "image/png": "[encoded data removed]",
      "text/plain": [
       "<Figure size 432x288 with 1 Axes>"
      ]
     },
     "metadata": {
      "needs_background": "light"
     },
     "output_type": "display_data"
    }
   ],
   "source": [
    "plt.plot(range(1, 11), Err)\n",
    "plt.scatter(range(1, 11), Err, c='r', marker='*',s=50)\n",
    "plt.title('The Elbow Method')\n",
    "plt.xlabel('Number of clusters')\n",
    "plt.ylabel('Error')\n",
    "plt.show()"
   ]
  },
  {
   "cell_type": "code",
   "execution_count": 942,
   "metadata": {},
   "outputs": [],
   "source": [
    "kmeans = KMeans(n_clusters = 5, random_state=3)\n",
    "kmeans.fit(x)\n",
    "y_kmeans = kmeans.predict(x)"
   ]
  },
  {
   "cell_type": "code",
   "execution_count": 943,
   "metadata": {
    "scrolled": true
   },
   "outputs": [
    {
     "data": {
      "text/plain": [
       "array([1, 1, 3, 2, 1, 1, 3, 4, 0, 2, 2, 2, 1, 1, 2, 1, 3, 4, 4, 2, 0, 1,\n",
       "       2, 1, 1, 1, 0, 0, 0, 0, 1, 0, 0, 4, 3, 1, 1, 2, 3, 2, 2, 0, 2, 0,\n",
       "       2, 0, 0, 0, 0, 3, 2, 1, 2, 3, 1, 4, 3, 2, 2, 4, 1, 4, 0, 1, 2, 0,\n",
       "       4, 0, 0, 2, 0, 0, 2, 0, 2, 4, 4, 1, 0, 0, 2, 2, 2, 0, 4, 1, 1, 1,\n",
       "       0, 1, 0, 4, 1, 4, 3, 1, 0, 0, 0, 0, 1, 1, 3, 2, 3, 0, 3, 0, 0, 0,\n",
       "       3, 2, 2, 2, 3, 1, 1, 1, 2, 0, 3, 3, 3, 0, 3, 3, 0, 1, 3, 2, 3, 4,\n",
       "       1, 1, 1, 2, 2, 0, 0, 0, 1, 0, 2, 2, 1, 4, 3, 1, 1, 3, 0, 1, 0, 2,\n",
       "       0, 1, 1, 0, 1, 0, 1, 1, 2, 2, 3, 3, 2, 0, 1, 1, 1, 3, 3, 0, 2, 3,\n",
       "       2, 1, 0, 3, 0, 2, 2, 0, 2, 0, 1, 0, 2, 3, 0, 1, 0, 0, 1, 2, 0, 2,\n",
       "       2, 1, 1, 1, 1, 0, 2, 1, 1, 1, 1, 0, 1, 4, 2, 2, 3, 3, 3, 4, 1, 2,\n",
       "       0, 3, 0, 3, 2, 2, 1, 2, 1, 3, 0, 4, 1, 3, 3, 1, 0, 0, 2, 3, 1, 1,\n",
       "       2, 2, 1, 1, 3, 0, 0, 0, 2, 1, 0, 1, 2, 0, 0, 1, 1, 1, 1, 1, 2, 3,\n",
       "       1, 2, 0, 1, 3, 1, 0, 2, 2, 0, 3, 1, 3, 0, 1, 0, 2, 2, 1, 1, 4, 3,\n",
       "       3, 1, 3, 1, 1, 1, 0, 0, 1, 0, 4, 1, 4, 3, 1, 2, 1, 1, 1, 0, 3, 2,\n",
       "       0, 2, 1, 0, 0, 0, 0, 0, 1, 1, 0, 0, 1, 1, 1, 2, 4, 3, 0, 4, 1, 2,\n",
       "       0, 4, 0, 3, 3, 0, 1, 2, 4, 4, 0, 0, 1, 0, 1, 1, 0, 3, 1, 1, 2, 0,\n",
       "       1, 2, 0, 0, 0, 2, 0, 3, 0, 3, 2, 4, 0, 2, 0, 0, 2, 1, 1, 2, 1, 3,\n",
       "       0, 4, 3, 3, 1, 0, 3, 3, 1, 4, 4, 1, 0, 0, 0, 1, 0, 1, 1, 2, 0, 2,\n",
       "       2, 3, 0, 0, 2, 2, 2, 3, 2, 0, 0, 1, 2, 3, 1, 3, 0, 0, 0, 1, 1, 1,\n",
       "       0, 2, 3, 2, 2, 1, 4, 0, 3, 0, 0, 0, 0, 0, 2, 2, 0, 2, 1, 1, 0, 3,\n",
       "       1, 1, 0, 1, 1, 1, 0, 3, 2, 1, 1, 3, 1, 0, 2, 2, 3, 2, 3, 0, 2, 2,\n",
       "       1, 3, 0, 3, 4, 0, 3, 3, 3, 0, 1, 0, 3, 1, 0, 1, 0, 1, 1, 2, 0, 2,\n",
       "       2, 1, 2, 0, 2, 1, 1, 0, 3, 3, 2, 0, 2, 0, 0, 1, 1, 3, 0, 3, 2, 3,\n",
       "       0, 2, 1, 3, 1, 2, 2, 2, 3, 1, 1, 1, 1, 1, 0, 3, 0, 2, 2, 0, 2, 4,\n",
       "       4, 0, 0, 2, 0, 3, 1, 1, 2, 2, 1, 3, 1, 1, 1, 3, 0, 1, 3, 0, 0, 1,\n",
       "       1, 3, 4, 0, 2, 4, 0, 0, 0, 0, 1, 0, 3, 1, 2, 2, 3, 0, 2, 0, 1, 3,\n",
       "       2, 2, 1, 2, 2, 3, 2, 2, 3, 1, 0, 1, 1, 1, 0, 2, 2, 2, 2, 0, 0, 1,\n",
       "       3, 0, 4, 2, 1, 1, 2, 4, 1, 2, 3, 1, 3, 2, 0, 0, 0, 2, 3, 1, 3, 0,\n",
       "       4, 3, 3, 0, 2, 0, 2, 3, 0, 3, 0, 2, 2, 2, 0, 0, 1, 1, 3, 1, 1, 3,\n",
       "       3, 1, 2, 1, 1, 1, 0, 1, 0, 0, 2, 1, 2, 1, 3, 0, 1, 0, 1, 0, 2, 3,\n",
       "       1, 0, 0, 0, 1, 2, 0, 1, 1, 1, 1, 2, 1, 1, 1, 2, 1, 1, 1, 0, 0, 0,\n",
       "       2, 4, 0, 3, 1, 1, 2, 3, 2, 1, 1, 1, 2, 3, 1, 0, 0, 0, 1, 0, 3, 0,\n",
       "       0, 0, 4, 0, 3, 2, 3, 3, 3, 1, 0, 3, 1, 3, 1, 3, 0, 2, 1, 2, 4, 1,\n",
       "       1, 0, 3, 2, 1, 2, 3, 2, 2, 0, 3, 0, 1, 0, 1, 2, 3, 0, 2, 1, 1, 0,\n",
       "       2, 3, 0, 1, 1, 3, 2, 3, 2, 0, 2, 1, 0, 2, 1, 0, 0, 1, 0, 0, 0, 0,\n",
       "       2, 1, 0, 1, 0, 2, 0, 4, 1, 3, 2, 3, 1, 2, 3, 4, 1, 4, 0, 2, 2, 0,\n",
       "       1, 3, 2, 0, 0, 1, 0, 2, 1, 1, 3, 3, 1, 1, 0, 4, 3, 2, 4, 2, 2, 3,\n",
       "       1, 3, 2, 0, 0, 3, 3, 3, 2, 1, 2, 0, 0, 0, 1, 0, 0, 1, 0, 1, 2, 0,\n",
       "       0, 1, 2, 1, 2, 0, 4, 1, 2, 3, 3, 0, 0, 1, 0, 0, 3, 1, 0, 3, 1, 1,\n",
       "       2, 1, 2, 3, 4, 1, 3, 3, 2, 2, 1, 2, 2, 1, 3, 3, 2, 1, 3, 2, 0, 1,\n",
       "       0, 1, 0, 2, 2, 0, 3, 0, 0, 2, 3, 3, 2, 3, 0, 4, 4, 1, 0, 1, 3, 1,\n",
       "       4, 3, 1, 3, 2, 1, 1, 0, 2, 1, 2, 2, 2, 0, 3, 2, 0, 3, 0, 4, 0, 0,\n",
       "       1, 0, 0, 0, 4, 2, 1, 0, 0, 1, 3, 0, 0, 2, 3, 1, 0, 3, 1, 0, 0, 2,\n",
       "       3, 2, 2, 0, 3, 1, 1, 2, 0, 0, 3, 3, 2, 1, 2, 2, 3, 1, 0, 0, 0, 0,\n",
       "       1, 1, 3, 1, 2, 2, 2, 1, 0, 0, 2, 3, 4, 1, 3, 3, 1, 2, 2, 1, 4, 1,\n",
       "       3, 1, 0, 0, 0, 3, 2, 0, 1, 1])"
      ]
     },
     "execution_count": 943,
     "metadata": {},
     "output_type": "execute_result"
    }
   ],
   "source": [
    "y_kmeans"
   ]
  },
  {
   "cell_type": "code",
   "execution_count": 944,
   "metadata": {},
   "outputs": [
    {
     "data": {
      "text/plain": [
       "array([[63.5971223 , 66.00359712],\n",
       "       [73.31654676, 77.17266187],\n",
       "       [51.25462963, 55.18518519],\n",
       "       [87.06395349, 88.61046512],\n",
       "       [35.375     , 39.375     ]])"
      ]
     },
     "execution_count": 944,
     "metadata": {},
     "output_type": "execute_result"
    }
   ],
   "source": [
    "clusters = kmeans.cluster_centers_\n",
    "clusters"
   ]
  },
  {
   "cell_type": "code",
   "execution_count": 945,
   "metadata": {},
   "outputs": [
    {
     "data": {
      "image/png": "[encoded data removed]",
      "text/plain": [
       "<Figure size 432x288 with 1 Axes>"
      ]
     },
     "metadata": {
      "needs_background": "light"
     },
     "output_type": "display_data"
    }
   ],
   "source": [
    "plt.scatter(x[y_kmeans == 0, 0], x[y_kmeans == 0, 1], s = 15, c = 'magenta')\n",
    "plt.scatter(x[y_kmeans == 1, 0], x[y_kmeans == 1, 1], s = 15, c = 'y')\n",
    "plt.scatter(x[y_kmeans == 2, 0], x[y_kmeans == 2, 1], s = 15, c = 'black')\n",
    "plt.scatter(x[y_kmeans == 3, 0], x[y_kmeans == 3, 1], s = 15, c = 'green')\n",
    "plt.scatter(x[y_kmeans == 4, 0], x[y_kmeans == 4, 1], s = 15, c = 'brown')\n",
    "plt.scatter(clusters[0][0],clusters[0][1],c='r',s=195,marker='*')\n",
    "plt.scatter(clusters[1][0],clusters[1][1],c='r',s=195, marker='*')\n",
    "plt.scatter(clusters[2][0],clusters[2][1],c='r',s=195, marker='*')\n",
    "plt.scatter(clusters[3][0],clusters[3][1],c='r',s=195, marker='*')\n",
    "plt.scatter(clusters[4][0],clusters[4][1],c='r',s=195, marker='*')\n",
    "plt.xlabel('math score')\n",
    "plt.ylabel('reading score')\n",
    "plt.show()"
   ]
  },
  {
   "cell_type": "code",
   "execution_count": 946,
   "metadata": {},
   "outputs": [
    {
     "data": {
      "text/plain": [
       "array([[72, 72],\n",
       "       [69, 90],\n",
       "       [90, 95],\n",
       "       ...,\n",
       "       [59, 71],\n",
       "       [68, 78],\n",
       "       [77, 86]], dtype=int64)"
      ]
     },
     "execution_count": 946,
     "metadata": {},
     "output_type": "execute_result"
    }
   ],
   "source": [
    "x"
   ]
  },
  {
   "cell_type": "code",
   "execution_count": 915,
   "metadata": {},
   "outputs": [],
   "source": [
    "import scipy.cluster.hierarchy as sch"
   ]
  },
  {
   "cell_type": "code",
   "execution_count": 919,
   "metadata": {},
   "outputs": [
    {
     "data": {
      "image/png": "[encoded data removed]",
      "text/plain": [
       "<Figure size 2160x1440 with 1 Axes>"
      ]
     },
     "metadata": {
      "needs_background": "light"
     },
     "output_type": "display_data"
    }
   ],
   "source": [
    "plt.figure(figsize=(30,20))\n",
    "dendrogram1 = sch.dendrogram(sch.linkage(x, method  = \"ward\"))\n",
    "plt.title('Dendrogram')\n",
    "plt.xlabel('Customers')\n",
    "plt.ylabel('Euclidean distances')\n",
    "plt.show()"
   ]
  },
  {
   "cell_type": "code",
   "execution_count": 920,
   "metadata": {},
   "outputs": [],
   "source": [
    "from sklearn.cluster import AgglomerativeClustering \n",
    "hc = AgglomerativeClustering(n_clusters = 5, affinity = 'euclidean', linkage ='complete')"
   ]
  },
  {
   "cell_type": "code",
   "execution_count": 921,
   "metadata": {},
   "outputs": [
    {
     "data": {
      "text/plain": [
       "array([1, 1, 3, 0, 1, 1, 3, 0, 4, 0, 0, 0, 1, 1, 0, 1, 3, 2, 0, 0, 1, 1,\n",
       "       0, 1, 1, 1, 4, 1, 1, 1, 1, 4, 1, 0, 3, 3, 3, 0, 3, 0, 0, 1, 0, 1,\n",
       "       0, 4, 0, 1, 1, 3, 0, 1, 0, 1, 1, 0, 3, 0, 4, 2, 1, 0, 4, 1, 4, 4,\n",
       "       0, 1, 4, 0, 4, 4, 0, 4, 0, 0, 2, 1, 1, 1, 0, 0, 0, 1, 0, 1, 3, 1,\n",
       "       1, 3, 1, 2, 1, 0, 3, 3, 4, 1, 1, 4, 1, 1, 3, 4, 3, 1, 3, 4, 1, 4,\n",
       "       3, 4, 0, 0, 3, 1, 3, 3, 0, 1, 3, 3, 3, 4, 1, 3, 1, 1, 3, 0, 3, 0,\n",
       "       1, 3, 1, 0, 0, 4, 1, 4, 1, 4, 0, 4, 1, 2, 3, 1, 1, 3, 1, 1, 1, 0,\n",
       "       1, 1, 1, 4, 1, 4, 1, 3, 0, 0, 3, 3, 0, 1, 1, 1, 1, 3, 3, 1, 0, 3,\n",
       "       0, 1, 1, 3, 1, 0, 0, 1, 0, 4, 1, 4, 0, 3, 4, 3, 4, 1, 1, 4, 1, 0,\n",
       "       0, 1, 1, 1, 1, 1, 4, 1, 1, 3, 3, 4, 1, 2, 0, 4, 3, 3, 3, 0, 1, 4,\n",
       "       1, 3, 0, 1, 0, 0, 1, 4, 1, 3, 1, 0, 1, 3, 3, 1, 4, 4, 0, 1, 1, 3,\n",
       "       0, 4, 1, 1, 1, 1, 4, 4, 0, 1, 1, 3, 0, 1, 1, 1, 1, 1, 1, 1, 0, 3,\n",
       "       1, 4, 1, 1, 3, 1, 4, 4, 0, 1, 3, 1, 3, 4, 1, 4, 0, 0, 1, 1, 0, 3,\n",
       "       3, 1, 1, 1, 1, 1, 4, 1, 1, 4, 0, 1, 0, 3, 1, 0, 1, 1, 1, 4, 3, 0,\n",
       "       1, 0, 1, 4, 4, 4, 4, 1, 3, 1, 1, 0, 1, 3, 1, 0, 0, 3, 4, 2, 1, 0,\n",
       "       4, 0, 4, 3, 3, 1, 1, 0, 2, 0, 4, 1, 1, 1, 1, 1, 4, 3, 1, 1, 0, 4,\n",
       "       1, 0, 1, 1, 4, 0, 4, 3, 4, 3, 0, 2, 4, 0, 4, 1, 0, 3, 1, 0, 1, 3,\n",
       "       1, 0, 3, 3, 1, 4, 3, 3, 3, 0, 0, 1, 1, 1, 4, 1, 1, 1, 1, 0, 1, 0,\n",
       "       0, 3, 1, 4, 0, 0, 0, 3, 0, 1, 4, 3, 0, 3, 1, 3, 1, 1, 1, 1, 1, 1,\n",
       "       4, 0, 3, 0, 0, 1, 0, 1, 3, 1, 4, 4, 4, 1, 4, 0, 1, 0, 1, 1, 4, 3,\n",
       "       1, 3, 1, 3, 3, 1, 4, 1, 0, 1, 1, 3, 1, 4, 0, 0, 3, 0, 3, 1, 0, 0,\n",
       "       1, 3, 4, 3, 2, 1, 3, 3, 3, 1, 1, 1, 3, 1, 1, 1, 0, 1, 1, 0, 4, 0,\n",
       "       0, 1, 4, 1, 4, 3, 1, 4, 3, 3, 0, 4, 0, 1, 1, 1, 1, 3, 4, 3, 0, 3,\n",
       "       1, 0, 1, 3, 1, 4, 4, 0, 3, 3, 3, 1, 1, 1, 4, 3, 4, 0, 0, 4, 0, 0,\n",
       "       0, 1, 4, 0, 4, 3, 1, 1, 0, 0, 1, 3, 1, 3, 1, 3, 4, 3, 3, 1, 1, 1,\n",
       "       1, 3, 0, 1, 0, 0, 1, 1, 1, 1, 1, 1, 3, 1, 0, 0, 3, 1, 4, 4, 1, 3,\n",
       "       0, 0, 3, 0, 4, 3, 0, 0, 3, 1, 1, 1, 1, 1, 1, 0, 0, 0, 0, 4, 4, 1,\n",
       "       3, 1, 2, 0, 1, 1, 0, 2, 1, 4, 3, 1, 3, 0, 4, 4, 4, 4, 3, 1, 3, 1,\n",
       "       0, 1, 3, 1, 0, 4, 4, 3, 4, 3, 1, 4, 0, 0, 4, 1, 1, 3, 3, 1, 1, 3,\n",
       "       1, 1, 0, 3, 1, 1, 4, 1, 1, 4, 0, 1, 0, 1, 3, 1, 1, 1, 1, 4, 0, 3,\n",
       "       1, 1, 1, 1, 1, 0, 1, 3, 1, 1, 1, 0, 1, 1, 1, 0, 1, 1, 1, 4, 1, 1,\n",
       "       4, 0, 4, 3, 1, 1, 0, 3, 0, 1, 1, 1, 0, 3, 3, 1, 1, 4, 3, 1, 3, 4,\n",
       "       4, 1, 0, 4, 3, 0, 3, 3, 3, 3, 1, 3, 1, 3, 1, 3, 1, 0, 3, 0, 0, 1,\n",
       "       1, 4, 3, 0, 1, 0, 3, 0, 0, 4, 3, 0, 1, 4, 1, 0, 3, 1, 0, 1, 1, 4,\n",
       "       0, 3, 1, 1, 1, 3, 0, 3, 0, 1, 0, 1, 1, 0, 3, 4, 4, 1, 1, 1, 1, 4,\n",
       "       0, 1, 0, 1, 4, 0, 1, 0, 1, 3, 0, 3, 3, 0, 3, 0, 1, 2, 4, 0, 0, 1,\n",
       "       1, 3, 0, 1, 1, 1, 4, 0, 1, 3, 3, 3, 1, 3, 1, 0, 1, 0, 0, 0, 0, 3,\n",
       "       1, 3, 0, 1, 1, 3, 3, 3, 0, 1, 0, 1, 1, 1, 1, 4, 4, 3, 4, 3, 4, 4,\n",
       "       1, 3, 0, 1, 0, 4, 2, 1, 0, 3, 3, 4, 1, 1, 1, 1, 3, 1, 4, 3, 1, 1,\n",
       "       0, 1, 0, 3, 0, 1, 3, 3, 0, 4, 1, 0, 4, 1, 3, 3, 0, 1, 3, 4, 1, 1,\n",
       "       4, 1, 1, 0, 0, 1, 3, 1, 4, 0, 3, 3, 0, 1, 4, 2, 2, 1, 4, 1, 3, 1,\n",
       "       0, 3, 1, 1, 0, 3, 1, 4, 0, 1, 0, 0, 0, 1, 3, 0, 1, 3, 1, 0, 1, 0,\n",
       "       1, 1, 4, 4, 0, 0, 1, 4, 1, 1, 3, 4, 4, 0, 1, 1, 1, 3, 1, 4, 1, 0,\n",
       "       3, 0, 0, 1, 3, 1, 1, 0, 1, 4, 3, 3, 0, 3, 0, 0, 3, 1, 4, 1, 1, 4,\n",
       "       1, 3, 3, 1, 0, 0, 0, 1, 4, 4, 0, 3, 2, 1, 3, 3, 1, 4, 0, 1, 0, 1,\n",
       "       1, 1, 1, 1, 4, 3, 4, 1, 1, 3], dtype=int64)"
      ]
     },
     "execution_count": 921,
     "metadata": {},
     "output_type": "execute_result"
    }
   ],
   "source": [
    "y=hc.fit_predict(x)\n",
    "y"
   ]
  },
  {
   "cell_type": "code",
   "execution_count": 926,
   "metadata": {},
   "outputs": [
    {
     "data": {
      "image/png": "[encoded data removed]",
      "text/plain": [
       "<Figure size 432x288 with 1 Axes>"
      ]
     },
     "metadata": {
      "needs_background": "light"
     },
     "output_type": "display_data"
    }
   ],
   "source": [
    "plt.scatter(x[y==0, 0], x[y==0, 1], s=100, c='green')\n",
    "plt.scatter(x[y==1, 0], x[y==1, 1], s=100, c='blue')\n",
    "plt.scatter(x[y==2, 0], x[y==2, 1], s=100, c='yellow')\n",
    "plt.scatter(x[y==3, 0], x[y==3, 1], s=100, c='red')\n",
    "plt.scatter(x[y==4, 0], x[y==4, 1], s=100, c='pink')\n",
    "plt.xlabel('math score')\n",
    "plt.ylabel('reading score')\n",
    "plt.show()"
   ]
  },
  {
   "cell_type": "code",
   "execution_count": 927,
   "metadata": {},
   "outputs": [],
   "source": [
    "from sklearn.cluster import DBSCAN\n",
    "dbscan = DBSCAN(eps=0.5, metric='euclidean', min_samples=5)"
   ]
  },
  {
   "cell_type": "code",
   "execution_count": 1117,
   "metadata": {},
   "outputs": [
    {
     "data": {
      "text/plain": [
       "DBSCAN(algorithm='auto', eps=0.5, leaf_size=30, metric='euclidean',\n",
       "       metric_params=None, min_samples=5, n_jobs=None, p=None)"
      ]
     },
     "execution_count": 1117,
     "metadata": {},
     "output_type": "execute_result"
    }
   ],
   "source": [
    "dbscan.fit(x)"
   ]
  },
  {
   "cell_type": "code",
   "execution_count": 1118,
   "metadata": {},
   "outputs": [
    {
     "data": {
      "text/plain": [
       "array([-1, -1, -1, -1, -1, -1, -1, -1, -1, -1, -1, -1, -1, -1, -1, -1, -1,\n",
       "       -1, -1, -1, -1, -1, -1, -1, -1, -1, -1, -1, -1, -1, -1, -1, -1, -1,\n",
       "       -1, -1, -1, -1, -1, -1, -1, -1, -1, -1, -1, -1, -1, -1, -1, -1, -1,\n",
       "       -1, -1, -1, -1, -1, -1, -1, -1, -1, -1, -1, -1, -1, -1, -1, -1, -1,\n",
       "       -1, -1, -1, -1, -1, -1, -1, -1, -1, -1, -1, -1, -1, -1, -1, -1, -1,\n",
       "       -1, -1, -1, -1, -1, -1, -1, -1, -1, -1, -1, -1, -1, -1, -1, -1, -1,\n",
       "       -1, -1, -1, -1, -1, -1, -1, -1, -1, -1, -1, -1, -1, -1, -1, -1, -1,\n",
       "       -1, -1, -1, -1, -1, -1, -1, -1, -1, -1, -1, -1, -1, -1, -1, -1, -1,\n",
       "       -1, -1, -1, -1, -1, -1, -1, -1, -1, -1, -1, -1, -1, -1,  0, -1, -1,\n",
       "       -1,  0, -1,  1, -1, -1, -1, -1, -1, -1, -1, -1, -1, -1, -1, -1, -1,\n",
       "       -1, -1, -1, -1, -1, -1, -1, -1, -1, -1, -1, -1, -1, -1, -1, -1, -1,\n",
       "       -1, -1, -1, -1, -1, -1, -1, -1, -1, -1, -1, -1, -1, -1, -1,  2, -1,\n",
       "       -1, -1, -1, -1, -1, -1, -1, -1, -1, -1, -1, -1, -1, -1, -1, -1, -1,\n",
       "       -1, -1, -1, -1, -1, -1, -1, -1, -1, -1, -1, -1, -1, -1, -1, -1, -1,\n",
       "       -1, -1, -1, -1, -1, -1, -1, -1, -1, -1, -1, -1, -1, -1, -1, -1, -1,\n",
       "       -1, -1, -1, -1, -1, -1, -1, -1, -1, -1, -1, -1, -1, -1, -1, -1, -1,\n",
       "       -1, -1, -1, -1, -1, -1, -1, -1, -1, -1, -1, -1, -1, -1, -1, -1, -1,\n",
       "       -1, -1, -1, -1, -1, -1, -1, -1, -1, -1, -1, -1, -1, -1, -1, -1, -1,\n",
       "       -1, -1, -1, -1, -1, -1, -1, -1, -1, -1, -1, -1, -1, -1, -1, -1, -1,\n",
       "       -1, -1, -1, -1, -1, -1, -1, -1, -1, -1, -1, -1, -1, -1, -1, -1, -1,\n",
       "       -1, -1, -1, -1, -1, -1, -1, -1, -1, -1, -1, -1, -1, -1, -1, -1, -1,\n",
       "       -1, -1, -1, -1, -1, -1, -1, -1, -1, -1, -1, -1, -1, -1, -1, -1, -1,\n",
       "       -1, -1, -1, -1, -1, -1, -1, -1, -1, -1, -1, -1, -1, -1, -1, -1, -1,\n",
       "       -1, -1, -1, -1, -1, -1, -1, -1, -1, -1, -1, -1, -1, -1, -1, -1, -1,\n",
       "       -1, -1, -1, -1, -1, -1, -1, -1, -1, -1, -1, -1, -1, -1, -1, -1, -1,\n",
       "        0, -1, -1, -1, -1, -1, -1, -1, -1, -1, -1, -1, -1, -1, -1, -1, -1,\n",
       "       -1, -1, -1, -1, -1, -1, -1, -1, -1, -1, -1, -1, -1, -1, -1, -1, -1,\n",
       "       -1, -1, -1, -1, -1, -1, -1, -1, -1, -1, -1, -1, -1, -1, -1, -1, -1,\n",
       "       -1, -1, -1, -1, -1, -1, -1, -1, -1, -1, -1, -1, -1, -1, -1, -1, -1,\n",
       "       -1, -1, -1, -1, -1, -1, -1, -1, -1, -1, -1, -1, -1, -1, -1, -1, -1,\n",
       "       -1, -1, -1, -1, -1, -1, -1,  1, -1, -1, -1, -1, -1, -1, -1, -1, -1,\n",
       "       -1, -1, -1, -1, -1, -1, -1, -1, -1, -1, -1, -1, -1, -1, -1, -1, -1,\n",
       "       -1, -1, -1, -1,  0, -1, -1, -1, -1, -1, -1, -1, -1, -1, -1, -1, -1,\n",
       "       -1, -1, -1, -1, -1, -1, -1, -1, -1, -1, -1, -1, -1, -1, -1, -1, -1,\n",
       "       -1, -1, -1, -1, -1, -1,  2, -1, -1, -1, -1, -1, -1, -1, -1, -1, -1,\n",
       "       -1, -1, -1,  2, -1, -1, -1, -1, -1, -1, -1, -1, -1, -1, -1, -1, -1,\n",
       "       -1, -1, -1, -1, -1, -1, -1, -1, -1, -1, -1, -1, -1, -1, -1, -1, -1,\n",
       "       -1, -1, -1,  1, -1, -1, -1, -1, -1, -1, -1, -1, -1, -1, -1, -1, -1,\n",
       "       -1, -1, -1, -1, -1, -1, -1, -1, -1,  0, -1, -1, -1, -1, -1, -1, -1,\n",
       "       -1, -1, -1, -1, -1, -1, -1, -1, -1, -1, -1,  2, -1, -1, -1, -1, -1,\n",
       "       -1, -1, -1, -1, -1, -1, -1, -1, -1, -1, -1, -1,  1, -1, -1, -1, -1,\n",
       "       -1, -1, -1, -1, -1, -1, -1, -1, -1, -1, -1, -1, -1, -1, -1, -1, -1,\n",
       "       -1, -1, -1, -1, -1, -1, -1, -1, -1, -1, -1, -1, -1, -1, -1, -1, -1,\n",
       "       -1, -1, -1, -1, -1, -1, -1, -1, -1, -1, -1, -1, -1, -1, -1, -1, -1,\n",
       "       -1, -1, -1, -1, -1, -1, -1, -1, -1, -1, -1,  2, -1, -1, -1, -1, -1,\n",
       "       -1, -1, -1, -1, -1, -1, -1, -1, -1, -1, -1, -1, -1, -1, -1, -1, -1,\n",
       "       -1, -1, -1, -1, -1, -1, -1, -1, -1, -1,  1, -1, -1, -1, -1, -1, -1,\n",
       "       -1, -1, -1, -1, -1, -1, -1, -1, -1, -1, -1, -1, -1, -1, -1, -1, -1,\n",
       "       -1, -1, -1, -1, -1, -1, -1, -1, -1,  0, -1, -1, -1, -1, -1, -1, -1,\n",
       "       -1, -1, -1, -1, -1, -1, -1, -1, -1, -1, -1, -1, -1, -1, -1, -1, -1,\n",
       "       -1, -1, -1, -1, -1, -1, -1, -1, -1, -1, -1, -1, -1, -1, -1, -1, -1,\n",
       "       -1, -1, -1, -1, -1, -1, -1, -1, -1, -1, -1, -1, -1, -1, -1, -1, -1,\n",
       "       -1, -1, -1, -1, -1, -1, -1, -1, -1, -1, -1, -1, -1, -1, -1, -1, -1,\n",
       "       -1, -1, -1, -1, -1, -1, -1, -1, -1, -1, -1, -1, -1, -1, -1, -1, -1,\n",
       "       -1, -1, -1, -1, -1, -1, -1, -1, -1, -1, -1, -1, -1, -1, -1, -1, -1,\n",
       "       -1, -1, -1, -1, -1, -1, -1, -1, -1, -1, -1, -1, -1, -1, -1, -1, -1,\n",
       "       -1, -1, -1, -1, -1, -1, -1, -1, -1, -1, -1, -1, -1, -1, -1, -1, -1,\n",
       "       -1, -1, -1, -1, -1, -1, -1, -1, -1, -1, -1, -1, -1, -1, -1, -1, -1,\n",
       "       -1, -1, -1, -1, -1, -1, -1, -1, -1, -1, -1, -1, -1, -1],\n",
       "      dtype=int64)"
      ]
     },
     "execution_count": 1118,
     "metadata": {},
     "output_type": "execute_result"
    }
   ],
   "source": [
    "dbscan.labels_"
   ]
  },
  {
   "cell_type": "code",
   "execution_count": 1119,
   "metadata": {},
   "outputs": [
    {
     "data": {
      "text/plain": [
       "array([[ -6.23023123,   2.03437973],\n",
       "       [-16.49065885, -13.05613468],\n",
       "       [-35.13211142,  -2.17053658],\n",
       "       ...,\n",
       "       [  3.86281062,  -6.21974084],\n",
       "       [ -7.48057218,  -5.06749661],\n",
       "       [-19.51452326,  -4.63851958]])"
      ]
     },
     "execution_count": 1119,
     "metadata": {},
     "output_type": "execute_result"
    }
   ],
   "source": [
    "import matplotlib.pyplot as pl\n",
    "from sklearn.decomposition import PCA\n",
    "pca = PCA(n_components=2).fit(x)\n",
    "pca_2d = pca.transform(x)\n",
    "pca_2d"
   ]
  },
  {
   "cell_type": "code",
   "execution_count": 1120,
   "metadata": {},
   "outputs": [
    {
     "data": {
      "text/plain": [
       "<matplotlib.legend.Legend at 0x1bb34144f08>"
      ]
     },
     "execution_count": 1120,
     "metadata": {},
     "output_type": "execute_result"
    },
    {
     "data": {
      "image/png": "[encoded data removed]",
      "text/plain": [
       "<Figure size 432x288 with 1 Axes>"
      ]
     },
     "metadata": {
      "needs_background": "light"
     },
     "output_type": "display_data"
    }
   ],
   "source": [
    "for i in range(0, pca_2d.shape[0]):\n",
    "    if dbscan.labels_[i] == 0:\n",
    "        c1 = pl.scatter(pca_2d[i,0],pca_2d[i,1],c='r',marker='+')\n",
    "    elif dbscan.labels_[i] == 1:\n",
    "        c2 = pl.scatter(pca_2d[i,0],pca_2d[i,1],c='g', marker='o')\n",
    "    elif dbscan.labels_[i] == -1:\n",
    "        c3 = pl.scatter(pca_2d[i,0],pca_2d[i,1],c='b',marker='*')\n",
    "pl.legend([c1, c2, c3], ['Cluster 1', 'Cluster 2','Noise'])\n",
    "    "
   ]
  },
  {
   "cell_type": "code",
   "execution_count": null,
   "metadata": {},
   "outputs": [],
   "source": []
  },
  {
   "cell_type": "code",
   "execution_count": 947,
   "metadata": {},
   "outputs": [
    {
     "data": {
      "text/html": [
       "<div>\n",
       "<style scoped>\n",
       "    .dataframe tbody tr th:only-of-type {\n",
       "        vertical-align: middle;\n",
       "    }\n",
       "\n",
       "    .dataframe tbody tr th {\n",
       "        vertical-align: top;\n",
       "    }\n",
       "\n",
       "    .dataframe thead th {\n",
       "        text-align: right;\n",
       "    }\n",
       "</style>\n",
       "<table border=\"1\" class=\"dataframe\">\n",
       "  <thead>\n",
       "    <tr style=\"text-align: right;\">\n",
       "      <th></th>\n",
       "      <th>gender</th>\n",
       "      <th>race_or_ethnicity</th>\n",
       "      <th>parental_level_of_education</th>\n",
       "      <th>lunch</th>\n",
       "      <th>test_preparation_course</th>\n",
       "      <th>math_score</th>\n",
       "      <th>reading_score</th>\n",
       "      <th>writing_score</th>\n",
       "    </tr>\n",
       "  </thead>\n",
       "  <tbody>\n",
       "    <tr>\n",
       "      <th>0</th>\n",
       "      <td>0</td>\n",
       "      <td>1</td>\n",
       "      <td>4</td>\n",
       "      <td>0</td>\n",
       "      <td>0</td>\n",
       "      <td>72</td>\n",
       "      <td>72</td>\n",
       "      <td>74</td>\n",
       "    </tr>\n",
       "    <tr>\n",
       "      <th>1</th>\n",
       "      <td>0</td>\n",
       "      <td>2</td>\n",
       "      <td>3</td>\n",
       "      <td>0</td>\n",
       "      <td>1</td>\n",
       "      <td>69</td>\n",
       "      <td>90</td>\n",
       "      <td>88</td>\n",
       "    </tr>\n",
       "    <tr>\n",
       "      <th>2</th>\n",
       "      <td>0</td>\n",
       "      <td>1</td>\n",
       "      <td>5</td>\n",
       "      <td>0</td>\n",
       "      <td>0</td>\n",
       "      <td>90</td>\n",
       "      <td>95</td>\n",
       "      <td>93</td>\n",
       "    </tr>\n",
       "    <tr>\n",
       "      <th>3</th>\n",
       "      <td>1</td>\n",
       "      <td>0</td>\n",
       "      <td>2</td>\n",
       "      <td>1</td>\n",
       "      <td>0</td>\n",
       "      <td>47</td>\n",
       "      <td>57</td>\n",
       "      <td>44</td>\n",
       "    </tr>\n",
       "    <tr>\n",
       "      <th>4</th>\n",
       "      <td>1</td>\n",
       "      <td>2</td>\n",
       "      <td>3</td>\n",
       "      <td>0</td>\n",
       "      <td>0</td>\n",
       "      <td>76</td>\n",
       "      <td>78</td>\n",
       "      <td>75</td>\n",
       "    </tr>\n",
       "    <tr>\n",
       "      <th>...</th>\n",
       "      <td>...</td>\n",
       "      <td>...</td>\n",
       "      <td>...</td>\n",
       "      <td>...</td>\n",
       "      <td>...</td>\n",
       "      <td>...</td>\n",
       "      <td>...</td>\n",
       "      <td>...</td>\n",
       "    </tr>\n",
       "    <tr>\n",
       "      <th>995</th>\n",
       "      <td>0</td>\n",
       "      <td>4</td>\n",
       "      <td>5</td>\n",
       "      <td>0</td>\n",
       "      <td>1</td>\n",
       "      <td>88</td>\n",
       "      <td>99</td>\n",
       "      <td>95</td>\n",
       "    </tr>\n",
       "    <tr>\n",
       "      <th>996</th>\n",
       "      <td>1</td>\n",
       "      <td>2</td>\n",
       "      <td>1</td>\n",
       "      <td>1</td>\n",
       "      <td>0</td>\n",
       "      <td>62</td>\n",
       "      <td>55</td>\n",
       "      <td>55</td>\n",
       "    </tr>\n",
       "    <tr>\n",
       "      <th>997</th>\n",
       "      <td>0</td>\n",
       "      <td>2</td>\n",
       "      <td>1</td>\n",
       "      <td>1</td>\n",
       "      <td>1</td>\n",
       "      <td>59</td>\n",
       "      <td>71</td>\n",
       "      <td>65</td>\n",
       "    </tr>\n",
       "    <tr>\n",
       "      <th>998</th>\n",
       "      <td>0</td>\n",
       "      <td>3</td>\n",
       "      <td>3</td>\n",
       "      <td>0</td>\n",
       "      <td>1</td>\n",
       "      <td>68</td>\n",
       "      <td>78</td>\n",
       "      <td>77</td>\n",
       "    </tr>\n",
       "    <tr>\n",
       "      <th>999</th>\n",
       "      <td>0</td>\n",
       "      <td>3</td>\n",
       "      <td>3</td>\n",
       "      <td>1</td>\n",
       "      <td>0</td>\n",
       "      <td>77</td>\n",
       "      <td>86</td>\n",
       "      <td>86</td>\n",
       "    </tr>\n",
       "  </tbody>\n",
       "</table>\n",
       "<p>1000 rows × 8 columns</p>\n",
       "</div>"
      ],
      "text/plain": [
       "     gender  race_or_ethnicity  parental_level_of_education  lunch  \\\n",
       "0         0                  1                            4      0   \n",
       "1         0                  2                            3      0   \n",
       "2         0                  1                            5      0   \n",
       "3         1                  0                            2      1   \n",
       "4         1                  2                            3      0   \n",
       "..      ...                ...                          ...    ...   \n",
       "995       0                  4                            5      0   \n",
       "996       1                  2                            1      1   \n",
       "997       0                  2                            1      1   \n",
       "998       0                  3                            3      0   \n",
       "999       0                  3                            3      1   \n",
       "\n",
       "     test_preparation_course  math_score  reading_score  writing_score  \n",
       "0                          0          72             72             74  \n",
       "1                          1          69             90             88  \n",
       "2                          0          90             95             93  \n",
       "3                          0          47             57             44  \n",
       "4                          0          76             78             75  \n",
       "..                       ...         ...            ...            ...  \n",
       "995                        1          88             99             95  \n",
       "996                        0          62             55             55  \n",
       "997                        1          59             71             65  \n",
       "998                        1          68             78             77  \n",
       "999                        0          77             86             86  \n",
       "\n",
       "[1000 rows x 8 columns]"
      ]
     },
     "execution_count": 947,
     "metadata": {},
     "output_type": "execute_result"
    }
   ],
   "source": [
    "df"
   ]
  },
  {
   "cell_type": "code",
   "execution_count": 957,
   "metadata": {},
   "outputs": [],
   "source": [
    "fem=[];mal=[]\n",
    "for i in range(df.shape[0]):\n",
    "    if(df['gender'][i] == 0):\n",
    "        fem.append(df['race_or_ethnicity'][i])\n",
    "    else:\n",
    "        mal.append(df['race_or_ethnicity'][i])\n",
    "        "
   ]
  },
  {
   "cell_type": "code",
   "execution_count": 964,
   "metadata": {},
   "outputs": [
    {
     "data": {
      "text/plain": [
       "[36, 104, 180, 129, 69]"
      ]
     },
     "execution_count": 964,
     "metadata": {},
     "output_type": "execute_result"
    }
   ],
   "source": [
    "count_f = [0,0,0,0,0]\n",
    "\n",
    "for i in fem:\n",
    "    if i == 0:\n",
    "        count_f[0] += 1\n",
    "    if(i == 1):\n",
    "        count_f[1] += 1\n",
    "    if(i == 2):\n",
    "        count_f[2] += 1\n",
    "    if(i == 3):\n",
    "        count_f[3] += 1\n",
    "    if(i == 4):\n",
    "        count_f[4] += 1\n",
    "    \n",
    "count_f "
   ]
  },
  {
   "cell_type": "code",
   "execution_count": 966,
   "metadata": {},
   "outputs": [
    {
     "data": {
      "text/plain": [
       "[53, 86, 139, 133, 71]"
      ]
     },
     "execution_count": 966,
     "metadata": {},
     "output_type": "execute_result"
    }
   ],
   "source": [
    "count_m = [0,0,0,0,0]\n",
    "\n",
    "for i in mal:\n",
    "    if i == 0:\n",
    "        count_m[0] += 1\n",
    "    if(i == 1):\n",
    "        count_m[1] += 1\n",
    "    if(i == 2):\n",
    "        count_m[2] += 1\n",
    "    if(i == 3):\n",
    "        count_m[3] += 1\n",
    "    if(i == 4):\n",
    "        count_m[4] += 1\n",
    "    \n",
    "count_m "
   ]
  },
  {
   "cell_type": "code",
   "execution_count": 981,
   "metadata": {},
   "outputs": [],
   "source": [
    "race=[]\n",
    "for i in range(5):\n",
    "    race.append([count_f[i],count_m[i]])"
   ]
  },
  {
   "cell_type": "code",
   "execution_count": 994,
   "metadata": {},
   "outputs": [
    {
     "data": {
      "text/plain": [
       "array([ 36, 104, 180, 129,  69])"
      ]
     },
     "execution_count": 994,
     "metadata": {},
     "output_type": "execute_result"
    }
   ],
   "source": [
    "race = np.array(race)\n",
    "race[:,0]"
   ]
  },
  {
   "cell_type": "code",
   "execution_count": 1033,
   "metadata": {},
   "outputs": [
    {
     "data": {
      "text/plain": [
       "array([ 53,  86, 139, 133,  71])"
      ]
     },
     "execution_count": 1033,
     "metadata": {},
     "output_type": "execute_result"
    }
   ],
   "source": [
    "race[:,1]"
   ]
  },
  {
   "cell_type": "code",
   "execution_count": 1006,
   "metadata": {},
   "outputs": [
    {
     "data": {
      "text/plain": [
       "Text(0, 0.5, 'Number of female')"
      ]
     },
     "execution_count": 1006,
     "metadata": {},
     "output_type": "execute_result"
    },
    {
     "data": {
      "image/png": "[encoded data removed]",
      "text/plain": [
       "<Figure size 432x288 with 1 Axes>"
      ]
     },
     "metadata": {
      "needs_background": "light"
     },
     "output_type": "display_data"
    }
   ],
   "source": [
    "plt.bar((0,1,2,3,4), race[:,0], tick_label=['group A', 'group B', 'group C', 'group D', 'group E',])\n",
    "plt.ylabel('Number of female')"
   ]
  },
  {
   "cell_type": "code",
   "execution_count": 1035,
   "metadata": {},
   "outputs": [
    {
     "data": {
      "text/plain": [
       "Text(0, 0.5, 'Number of male')"
      ]
     },
     "execution_count": 1035,
     "metadata": {},
     "output_type": "execute_result"
    },
    {
     "data": {
      "image/png": "[encoded data removed]",
      "text/plain": [
       "<Figure size 432x288 with 1 Axes>"
      ]
     },
     "metadata": {
      "needs_background": "light"
     },
     "output_type": "display_data"
    }
   ],
   "source": [
    "plt.bar(np.arange(5), race[:,1], tick_label=['group A', 'group B', 'group C', 'group D', 'group E',])\n",
    "plt.ylabel('Number of male')"
   ]
  },
  {
   "cell_type": "code",
   "execution_count": 1152,
   "metadata": {},
   "outputs": [
    {
     "data": {
      "image/png": "[encoded data removed]",
      "text/plain": [
       "<Figure size 432x288 with 1 Axes>"
      ]
     },
     "metadata": {
      "needs_background": "light"
     },
     "output_type": "display_data"
    }
   ],
   "source": [
    "ax = plt.subplot(111)\n",
    "ax.bar((0,1,2,3,4), race[:,0], color='r', align='edge',width = 0.4,label = 'female')\n",
    "ax.bar((0.6,1.6,2.6,3.6,4.6), race[:,1], color='green', align='center',width = 0.4, label='male',tick_label=['group A', 'group B', 'group C', 'group D', 'group E'])\n",
    "plt.legend()\n",
    "plt.xlabel('Race')\n",
    "plt.ylabel('Number of people')\n",
    "\n",
    "plt.show()"
   ]
  },
  {
   "cell_type": "code",
   "execution_count": 1063,
   "metadata": {},
   "outputs": [],
   "source": [
    "math_avg = df['math_score'].mean()"
   ]
  },
  {
   "cell_type": "code",
   "execution_count": 1081,
   "metadata": {},
   "outputs": [],
   "source": [
    "reading_avg = df['reading_score'].mean()\n",
    "writing_avg = df['writing_score'].mean()\n",
    "\n",
    "avg_scores = [math_avg, reading_avg, writing_avg]"
   ]
  },
  {
   "cell_type": "code",
   "execution_count": 1082,
   "metadata": {},
   "outputs": [
    {
     "data": {
      "text/plain": [
       "[493, 513, 512]"
      ]
     },
     "execution_count": 1082,
     "metadata": {},
     "output_type": "execute_result"
    }
   ],
   "source": [
    "m=0;total=[]\n",
    "for j in range(5,8):\n",
    "    m = 0\n",
    "    for i in range(df.shape[0]):\n",
    "        if(df[df.columns[j]][i] >= avg_scores[j - 5]):\n",
    "            m += 1\n",
    "    total.append(m)    \n",
    "total              "
   ]
  },
  {
   "cell_type": "code",
   "execution_count": 1164,
   "metadata": {},
   "outputs": [
    {
     "data": {
      "text/plain": [
       "Text(0, 0.5, 'Number of students above the average mark in each category')"
      ]
     },
     "execution_count": 1164,
     "metadata": {},
     "output_type": "execute_result"
    },
    {
     "data": {
      "image/png": "[encoded data removed]",
      "text/plain": [
       "<Figure size 1080x576 with 1 Axes>"
      ]
     },
     "metadata": {
      "needs_background": "light"
     },
     "output_type": "display_data"
    }
   ],
   "source": [
    "plt.figure(figsize=(15,8))\n",
    "plt.bar([0.9,1,1.1],total,width = 0.1,tick_label=['math', 'reading', 'writing'],color=['red','orange','green'])\n",
    "plt.plot([0,2],[df.shape[0],df.shape[0]],c='orange',label='Total number of students')\n",
    "plt.legend(loc='best')\n",
    "plt.ylim(0,1500)\n",
    "plt.ylabel('Number of students above the average mark in each category',size=12)"
   ]
  },
  {
   "cell_type": "code",
   "execution_count": 1165,
   "metadata": {},
   "outputs": [],
   "source": [
    "m=[];f=[]\n",
    "for i in range(df.shape[0]):\n",
    "    if(df['gender'][i] == 1):\n",
    "        m.append(i)\n",
    "    else:\n",
    "        f.append(i)"
   ]
  },
  {
   "cell_type": "code",
   "execution_count": 1175,
   "metadata": {},
   "outputs": [
    {
     "data": {
      "text/plain": [
       "[53, 86, 139, 133, 71]"
      ]
     },
     "execution_count": 1175,
     "metadata": {},
     "output_type": "execute_result"
    }
   ],
   "source": [
    "m_race=[];count0=0;count1=0;count2=0;count3=0;count4=0\n",
    "for i in m:\n",
    "    if(df['race_or_ethnicity'][i] == 0):\n",
    "        count0 += 1\n",
    "    elif(df['race_or_ethnicity'][i] == 1):\n",
    "        count1 += 1\n",
    "    elif(df['race_or_ethnicity'][i] == 2):\n",
    "        count2 += 1\n",
    "    elif(df['race_or_ethnicity'][i] == 3):\n",
    "        count3 += 1\n",
    "    elif(df['race_or_ethnicity'][i] == 4):\n",
    "        count4 += 1    \n",
    "m_race=[count0,count1,count2,count3,count4]    \n",
    "m_race"
   ]
  },
  {
   "cell_type": "code",
   "execution_count": 1174,
   "metadata": {},
   "outputs": [
    {
     "data": {
      "text/plain": [
       "[36, 104, 180, 129, 69]"
      ]
     },
     "execution_count": 1174,
     "metadata": {},
     "output_type": "execute_result"
    }
   ],
   "source": [
    "f_race=[];count0=0;count1=0;count2=0;count3=0;count4=0\n",
    "for i in f:\n",
    "    if(df['race_or_ethnicity'][i] == 0):\n",
    "        count0 += 1\n",
    "    elif(df['race_or_ethnicity'][i] == 1):\n",
    "        count1 += 1\n",
    "    elif(df['race_or_ethnicity'][i] == 2):\n",
    "        count2 += 1\n",
    "    elif(df['race_or_ethnicity'][i] == 3):\n",
    "        count3 += 1\n",
    "    elif(df['race_or_ethnicity'][i] == 4):\n",
    "        count4 += 1    \n",
    "f_race=[count0,count1,count2,count3,count4]    \n",
    "f_race"
   ]
  },
  {
   "cell_type": "code",
   "execution_count": 1185,
   "metadata": {},
   "outputs": [
    {
     "data": {
      "text/plain": [
       "<BarContainer object of 5 artists>"
      ]
     },
     "execution_count": 1185,
     "metadata": {},
     "output_type": "execute_result"
    },
    {
     "data": {
      "image/png": "[encoded data removed]",
      "text/plain": [
       "<Figure size 432x288 with 1 Axes>"
      ]
     },
     "metadata": {
      "needs_background": "light"
     },
     "output_type": "display_data"
    }
   ],
   "source": [
    "plt.bar([0,1,2,3,4],m_race,width=0.4,align='edge',color='orange')\n",
    "#plt.bar([0.6,1.6,2.6,3.6,4.6],f_race,width=0.4)"
   ]
  },
  {
   "cell_type": "code",
   "execution_count": 1195,
   "metadata": {},
   "outputs": [],
   "source": [
    "gender = m_race+f_race"
   ]
  },
  {
   "cell_type": "code",
   "execution_count": 1204,
   "metadata": {},
   "outputs": [
    {
     "data": {
      "text/plain": [
       "[53, 86, 139, 133, 71, 36, 104, 180, 129, 69]"
      ]
     },
     "execution_count": 1204,
     "metadata": {},
     "output_type": "execute_result"
    }
   ],
   "source": [
    "gender"
   ]
  },
  {
   "cell_type": "code",
   "execution_count": 1266,
   "metadata": {},
   "outputs": [
    {
     "data": {
      "image/png": "[encoded data removed]",
      "text/plain": [
       "<Figure size 432x288 with 1 Axes>"
      ]
     },
     "metadata": {
      "needs_background": "light"
     },
     "output_type": "display_data"
    }
   ],
   "source": [
    "import matplotlib\n",
    "plt.bar([0,1,2,3,4,8,9,10,11,12],gender,tick_label=['','','male','','','','','female','',''])\n",
    "s = ['group A','group B','group C','group D','group E','group A','group B','group C','group D','group E']\n",
    "d=gender\n",
    "n = [0,1,2,3,4,8,9,10,11,12]\n",
    "for i in range(len(s)):\n",
    "    plt.annotate(str(s[i]), xy=(n[i],d[i]))\n",
    "\n",
    "plt.show()"
   ]
  },
  {
   "cell_type": "code",
   "execution_count": null,
   "metadata": {},
   "outputs": [],
   "source": []
  },
  {
   "cell_type": "code",
   "execution_count": null,
   "metadata": {},
   "outputs": [],
   "source": []
  }
 ],
 "metadata": {
  "kernelspec": {
   "display_name": "Python 3",
   "language": "python",
   "name": "python3"
  },
  "language_info": {
   "codemirror_mode": {
    "name": "ipython",
    "version": 3
   },
   "file_extension": ".py",
   "mimetype": "text/x-python",
   "name": "python",
   "nbconvert_exporter": "python",
   "pygments_lexer": "ipython3",
   "version": "3.7.4"
  }
 },
 "nbformat": 4,
 "nbformat_minor": 2
}
